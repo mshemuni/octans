{
 "cells": [
  {
   "cell_type": "code",
   "execution_count": 2,
   "id": "84ea574c-745b-4ccf-8622-bb764034f2e5",
   "metadata": {},
   "outputs": [],
   "source": [
    "from octans import Sky"
   ]
  },
  {
   "cell_type": "markdown",
   "id": "9af6ed1b-1473-4cea-9994-85b1324c49e3",
   "metadata": {},
   "source": [
    "# Sky"
   ]
  },
  {
   "cell_type": "code",
   "execution_count": 4,
   "id": "3e65d444-5c05-411c-a693-7a59d2349d91",
   "metadata": {},
   "outputs": [
    {
     "data": {
      "text/plain": [
       "Sky('CHSS 3072')"
      ]
     },
     "execution_count": 4,
     "metadata": {},
     "output_type": "execute_result"
    }
   ],
   "source": [
    "sky = Sky(\"CHSS 3072\")\n",
    "sky"
   ]
  },
  {
   "cell_type": "markdown",
   "id": "69a5591d-f2c2-42d0-a87a-addfb2ff2df9",
   "metadata": {},
   "source": [
    "## get SkyCoord"
   ]
  },
  {
   "cell_type": "code",
   "execution_count": 5,
   "id": "034b69ab-f015-4307-97f0-2f6928c6b054",
   "metadata": {},
   "outputs": [
    {
     "data": {
      "text/plain": [
       "<SkyCoord (ICRS): (ra, dec) in deg\n",
       "    (351.71857949, 12.50607886)>"
      ]
     },
     "execution_count": 5,
     "metadata": {},
     "output_type": "execute_result"
    }
   ],
   "source": [
    "sky.skycoord"
   ]
  },
  {
   "cell_type": "code",
   "execution_count": null,
   "id": "53771850-8aea-4d9e-b311-55b5e9867233",
   "metadata": {},
   "outputs": [],
   "source": []
  }
 ],
 "metadata": {
  "kernelspec": {
   "display_name": "Python 3 (ipykernel)",
   "language": "python",
   "name": "python3"
  },
  "language_info": {
   "codemirror_mode": {
    "name": "ipython",
    "version": 3
   },
   "file_extension": ".py",
   "mimetype": "text/x-python",
   "name": "python",
   "nbconvert_exporter": "python",
   "pygments_lexer": "ipython3",
   "version": "3.10.14"
  }
 },
 "nbformat": 4,
 "nbformat_minor": 5
}
